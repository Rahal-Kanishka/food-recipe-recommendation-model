{
 "cells": [
  {
   "cell_type": "code",
   "execution_count": 1,
   "metadata": {
    "_cell_guid": "b1076dfc-b9ad-4769-8c92-a6c4dae69d19",
    "_uuid": "8f2839f25d086af736a60e9eeb907d3b93b6e0e5",
    "id": "2NUkmIVFuFdf"
   },
   "outputs": [],
   "source": [
    "# This Python 3 environment comes with many helpful analytics libraries installed\n",
    "# It is defined by the kaggle/python Docker image: https://github.com/kaggle/docker-python\n",
    "# For example, here's several helpful packages to load\n",
    "\n",
    "import numpy as np # linear algebra\n",
    "import pandas as pd # data processing, CSV file I/O (e.g. pd.read_csv)\n",
    "\n",
    "# Input data files are available in the read-only \"../input/\" directory\n",
    "# For example, running this (by clicking run or pressing Shift+Enter) will list all files under the input directory\n",
    "\n",
    "import os\n",
    "for dirname, _, filenames in os.walk('/sample_data'):\n",
    "    for filename in filenames:\n",
    "        print(os.path.join(dirname, filename))\n",
    "\n",
    "# You can write up to 20GB to the current directory (/kaggle/working/) that gets preserved as output when you create a version using \"Save & Run All\"\n",
    "# You can also write temporary files to /kaggle/temp/, but they won't be saved outside of the current session"
   ]
  },
  {
   "cell_type": "code",
   "execution_count": 2,
   "metadata": {
    "id": "H7-b5q71uFdh"
   },
   "outputs": [],
   "source": [
    "map = pd.read_pickle('ingr_map.pkl');"
   ]
  },
  {
   "cell_type": "code",
   "execution_count": 3,
   "metadata": {
    "id": "fz2Ve055uFdi"
   },
   "outputs": [],
   "source": [
    "map = map.filter(['id', 'processed']).sort_values('id')\n"
   ]
  },
  {
   "cell_type": "code",
   "execution_count": 4,
   "metadata": {
    "colab": {
     "base_uri": "https://localhost:8080/",
     "height": 363
    },
    "id": "nbCP7J9puFdi",
    "outputId": "d795ded2-224f-4c77-f337-052b9e1249ff"
   },
   "outputs": [
    {
     "data": {
      "text/html": [
       "<div>\n",
       "<style scoped>\n",
       "    .dataframe tbody tr th:only-of-type {\n",
       "        vertical-align: middle;\n",
       "    }\n",
       "\n",
       "    .dataframe tbody tr th {\n",
       "        vertical-align: top;\n",
       "    }\n",
       "\n",
       "    .dataframe thead th {\n",
       "        text-align: right;\n",
       "    }\n",
       "</style>\n",
       "<table border=\"1\" class=\"dataframe\">\n",
       "  <thead>\n",
       "    <tr style=\"text-align: right;\">\n",
       "      <th></th>\n",
       "      <th>id</th>\n",
       "      <th>processed</th>\n",
       "    </tr>\n",
       "  </thead>\n",
       "  <tbody>\n",
       "    <tr>\n",
       "      <th>4357</th>\n",
       "      <td>8015</td>\n",
       "      <td>za'atar spice mix</td>\n",
       "    </tr>\n",
       "    <tr>\n",
       "      <th>5268</th>\n",
       "      <td>8016</td>\n",
       "      <td>zatarain's jambalaya mix</td>\n",
       "    </tr>\n",
       "    <tr>\n",
       "      <th>11594</th>\n",
       "      <td>8017</td>\n",
       "      <td>zinfandel</td>\n",
       "    </tr>\n",
       "    <tr>\n",
       "      <th>9382</th>\n",
       "      <td>8018</td>\n",
       "      <td>ziploc bag</td>\n",
       "    </tr>\n",
       "    <tr>\n",
       "      <th>9383</th>\n",
       "      <td>8018</td>\n",
       "      <td>ziploc bag</td>\n",
       "    </tr>\n",
       "    <tr>\n",
       "      <th>9638</th>\n",
       "      <td>8019</td>\n",
       "      <td>ziti pastum</td>\n",
       "    </tr>\n",
       "    <tr>\n",
       "      <th>7172</th>\n",
       "      <td>8020</td>\n",
       "      <td>ziti rigatus</td>\n",
       "    </tr>\n",
       "    <tr>\n",
       "      <th>2115</th>\n",
       "      <td>8021</td>\n",
       "      <td>zucchini</td>\n",
       "    </tr>\n",
       "    <tr>\n",
       "      <th>2114</th>\n",
       "      <td>8021</td>\n",
       "      <td>zucchini</td>\n",
       "    </tr>\n",
       "    <tr>\n",
       "      <th>7609</th>\n",
       "      <td>8022</td>\n",
       "      <td>zwieback toast</td>\n",
       "    </tr>\n",
       "  </tbody>\n",
       "</table>\n",
       "</div>"
      ],
      "text/plain": [
       "         id                 processed\n",
       "4357   8015         za'atar spice mix\n",
       "5268   8016  zatarain's jambalaya mix\n",
       "11594  8017                 zinfandel\n",
       "9382   8018                ziploc bag\n",
       "9383   8018                ziploc bag\n",
       "9638   8019               ziti pastum\n",
       "7172   8020              ziti rigatus\n",
       "2115   8021                  zucchini\n",
       "2114   8021                  zucchini\n",
       "7609   8022            zwieback toast"
      ]
     },
     "execution_count": 4,
     "metadata": {},
     "output_type": "execute_result"
    }
   ],
   "source": [
    "map.tail(10)"
   ]
  },
  {
   "cell_type": "code",
   "execution_count": 5,
   "metadata": {
    "colab": {
     "base_uri": "https://localhost:8080/"
    },
    "id": "CEKSoulfuFdj",
    "outputId": "03f76e9a-0601-4948-a33a-ec4e627b4b27"
   },
   "outputs": [
    {
     "name": "stdout",
     "output_type": "stream",
     "text": [
      "<class 'pandas.core.frame.DataFrame'>\n",
      "Index: 11659 entries, 3483 to 7609\n",
      "Data columns (total 2 columns):\n",
      " #   Column     Non-Null Count  Dtype \n",
      "---  ------     --------------  ----- \n",
      " 0   id         11659 non-null  int16 \n",
      " 1   processed  11659 non-null  object\n",
      "dtypes: int16(1), object(1)\n",
      "memory usage: 204.9+ KB\n"
     ]
    }
   ],
   "source": [
    "map.info()"
   ]
  },
  {
   "cell_type": "code",
   "execution_count": 6,
   "metadata": {
    "colab": {
     "base_uri": "https://localhost:8080/",
     "height": 337
    },
    "id": "ChqAEeI-uFdj",
    "outputId": "8f031491-89f6-40f1-8b01-1f7d26e27c24"
   },
   "outputs": [],
   "source": [
    "import csv\n",
    "receipt_data = pd.read_excel('PP_recipes.xlsx')\n",
    "# receipt_data = receipt_data.filter(['id','ingredient_ids']).sort_values('id')"
   ]
  },
  {
   "cell_type": "markdown",
   "metadata": {
    "id": "wosrIo_pYNEN"
   },
   "source": [
    "# New Section"
   ]
  },
  {
   "cell_type": "code",
   "execution_count": 7,
   "metadata": {
    "id": "V51-Tli2uFdk"
   },
   "outputs": [
    {
     "data": {
      "text/html": [
       "<div>\n",
       "<style scoped>\n",
       "    .dataframe tbody tr th:only-of-type {\n",
       "        vertical-align: middle;\n",
       "    }\n",
       "\n",
       "    .dataframe tbody tr th {\n",
       "        vertical-align: top;\n",
       "    }\n",
       "\n",
       "    .dataframe thead th {\n",
       "        text-align: right;\n",
       "    }\n",
       "</style>\n",
       "<table border=\"1\" class=\"dataframe\">\n",
       "  <thead>\n",
       "    <tr style=\"text-align: right;\">\n",
       "      <th></th>\n",
       "      <th>id</th>\n",
       "      <th>i</th>\n",
       "      <th>calorie_level</th>\n",
       "      <th>ingredient_ids</th>\n",
       "    </tr>\n",
       "  </thead>\n",
       "  <tbody>\n",
       "    <tr>\n",
       "      <th>0</th>\n",
       "      <td>38</td>\n",
       "      <td>16791</td>\n",
       "      <td>0</td>\n",
       "      <td>[648, 3355, 7501, 4253]</td>\n",
       "    </tr>\n",
       "    <tr>\n",
       "      <th>1</th>\n",
       "      <td>40</td>\n",
       "      <td>99809</td>\n",
       "      <td>1</td>\n",
       "      <td>[6906, 4303, 2919, 2832, 3829, 1567]</td>\n",
       "    </tr>\n",
       "    <tr>\n",
       "      <th>2</th>\n",
       "      <td>45</td>\n",
       "      <td>84204</td>\n",
       "      <td>0</td>\n",
       "      <td>[6906, 4574, 2499, 2509, 2683, 6270, 869, 3324...</td>\n",
       "    </tr>\n",
       "    <tr>\n",
       "      <th>3</th>\n",
       "      <td>46</td>\n",
       "      <td>172842</td>\n",
       "      <td>0</td>\n",
       "      <td>[6082]</td>\n",
       "    </tr>\n",
       "    <tr>\n",
       "      <th>4</th>\n",
       "      <td>49</td>\n",
       "      <td>61982</td>\n",
       "      <td>2</td>\n",
       "      <td>[2847, 840, 1254, 2683, 4593, 1257, 6270, 4836...</td>\n",
       "    </tr>\n",
       "    <tr>\n",
       "      <th>5</th>\n",
       "      <td>52</td>\n",
       "      <td>7897</td>\n",
       "      <td>0</td>\n",
       "      <td>[3869, 6906, 2427, 5068]</td>\n",
       "    </tr>\n",
       "    <tr>\n",
       "      <th>6</th>\n",
       "      <td>53</td>\n",
       "      <td>83640</td>\n",
       "      <td>1</td>\n",
       "      <td>[63, 6906, 332, 335, 2662, 1093, 7642, 5408, 1...</td>\n",
       "    </tr>\n",
       "    <tr>\n",
       "      <th>7</th>\n",
       "      <td>58</td>\n",
       "      <td>13103</td>\n",
       "      <td>1</td>\n",
       "      <td>[451, 7557, 2379, 6270, 5319, 437, 836, 3184, ...</td>\n",
       "    </tr>\n",
       "    <tr>\n",
       "      <th>8</th>\n",
       "      <td>59</td>\n",
       "      <td>60113</td>\n",
       "      <td>0</td>\n",
       "      <td>[2716, 840, 3217, 6085, 5180, 6270, 7213, 5006...</td>\n",
       "    </tr>\n",
       "    <tr>\n",
       "      <th>9</th>\n",
       "      <td>62</td>\n",
       "      <td>96738</td>\n",
       "      <td>1</td>\n",
       "      <td>[2832, 5006, 553, 2786, 5519, 6335, 2857, 1118...</td>\n",
       "    </tr>\n",
       "  </tbody>\n",
       "</table>\n",
       "</div>"
      ],
      "text/plain": [
       "   id       i  calorie_level  \\\n",
       "0  38   16791              0   \n",
       "1  40   99809              1   \n",
       "2  45   84204              0   \n",
       "3  46  172842              0   \n",
       "4  49   61982              2   \n",
       "5  52    7897              0   \n",
       "6  53   83640              1   \n",
       "7  58   13103              1   \n",
       "8  59   60113              0   \n",
       "9  62   96738              1   \n",
       "\n",
       "                                      ingredient_ids  \n",
       "0                            [648, 3355, 7501, 4253]  \n",
       "1               [6906, 4303, 2919, 2832, 3829, 1567]  \n",
       "2  [6906, 4574, 2499, 2509, 2683, 6270, 869, 3324...  \n",
       "3                                             [6082]  \n",
       "4  [2847, 840, 1254, 2683, 4593, 1257, 6270, 4836...  \n",
       "5                           [3869, 6906, 2427, 5068]  \n",
       "6  [63, 6906, 332, 335, 2662, 1093, 7642, 5408, 1...  \n",
       "7  [451, 7557, 2379, 6270, 5319, 437, 836, 3184, ...  \n",
       "8  [2716, 840, 3217, 6085, 5180, 6270, 7213, 5006...  \n",
       "9  [2832, 5006, 553, 2786, 5519, 6335, 2857, 1118...  "
      ]
     },
     "execution_count": 7,
     "metadata": {},
     "output_type": "execute_result"
    }
   ],
   "source": [
    "receipt_data.head(10)"
   ]
  },
  {
   "cell_type": "markdown",
   "metadata": {
    "id": "HbmRn2zT4D3H"
   },
   "source": [
    "## Data cleaning"
   ]
  },
  {
   "cell_type": "code",
   "execution_count": 8,
   "metadata": {
    "id": "V--r9S834HP8"
   },
   "outputs": [
    {
     "data": {
      "text/html": [
       "<div>\n",
       "<style scoped>\n",
       "    .dataframe tbody tr th:only-of-type {\n",
       "        vertical-align: middle;\n",
       "    }\n",
       "\n",
       "    .dataframe tbody tr th {\n",
       "        vertical-align: top;\n",
       "    }\n",
       "\n",
       "    .dataframe thead th {\n",
       "        text-align: right;\n",
       "    }\n",
       "</style>\n",
       "<table border=\"1\" class=\"dataframe\">\n",
       "  <thead>\n",
       "    <tr style=\"text-align: right;\">\n",
       "      <th></th>\n",
       "      <th>id</th>\n",
       "      <th>i</th>\n",
       "      <th>calorie_level</th>\n",
       "    </tr>\n",
       "  </thead>\n",
       "  <tbody>\n",
       "    <tr>\n",
       "      <th>count</th>\n",
       "      <td>178265.000000</td>\n",
       "      <td>178265.000000</td>\n",
       "      <td>178265.000000</td>\n",
       "    </tr>\n",
       "    <tr>\n",
       "      <th>mean</th>\n",
       "      <td>213461.803007</td>\n",
       "      <td>89132.000000</td>\n",
       "      <td>0.863192</td>\n",
       "    </tr>\n",
       "    <tr>\n",
       "      <th>std</th>\n",
       "      <td>138266.712754</td>\n",
       "      <td>51460.817206</td>\n",
       "      <td>0.791486</td>\n",
       "    </tr>\n",
       "    <tr>\n",
       "      <th>min</th>\n",
       "      <td>38.000000</td>\n",
       "      <td>0.000000</td>\n",
       "      <td>0.000000</td>\n",
       "    </tr>\n",
       "    <tr>\n",
       "      <th>25%</th>\n",
       "      <td>94576.000000</td>\n",
       "      <td>44566.000000</td>\n",
       "      <td>0.000000</td>\n",
       "    </tr>\n",
       "    <tr>\n",
       "      <th>50%</th>\n",
       "      <td>196312.000000</td>\n",
       "      <td>89132.000000</td>\n",
       "      <td>1.000000</td>\n",
       "    </tr>\n",
       "    <tr>\n",
       "      <th>75%</th>\n",
       "      <td>320562.000000</td>\n",
       "      <td>133698.000000</td>\n",
       "      <td>2.000000</td>\n",
       "    </tr>\n",
       "    <tr>\n",
       "      <th>max</th>\n",
       "      <td>537716.000000</td>\n",
       "      <td>178264.000000</td>\n",
       "      <td>2.000000</td>\n",
       "    </tr>\n",
       "  </tbody>\n",
       "</table>\n",
       "</div>"
      ],
      "text/plain": [
       "                  id              i  calorie_level\n",
       "count  178265.000000  178265.000000  178265.000000\n",
       "mean   213461.803007   89132.000000       0.863192\n",
       "std    138266.712754   51460.817206       0.791486\n",
       "min        38.000000       0.000000       0.000000\n",
       "25%     94576.000000   44566.000000       0.000000\n",
       "50%    196312.000000   89132.000000       1.000000\n",
       "75%    320562.000000  133698.000000       2.000000\n",
       "max    537716.000000  178264.000000       2.000000"
      ]
     },
     "execution_count": 8,
     "metadata": {},
     "output_type": "execute_result"
    }
   ],
   "source": [
    "receipt_data.describe()"
   ]
  },
  {
   "cell_type": "code",
   "execution_count": 9,
   "metadata": {
    "id": "x7wiafZiuFdk"
   },
   "outputs": [
    {
     "name": "stdout",
     "output_type": "stream",
     "text": [
      "<class 'pandas.core.frame.DataFrame'>\n",
      "RangeIndex: 178265 entries, 0 to 178264\n",
      "Data columns (total 4 columns):\n",
      " #   Column          Non-Null Count   Dtype \n",
      "---  ------          --------------   ----- \n",
      " 0   id              178265 non-null  int64 \n",
      " 1   i               178265 non-null  int64 \n",
      " 2   calorie_level   178265 non-null  int64 \n",
      " 3   ingredient_ids  178265 non-null  object\n",
      "dtypes: int64(3), object(1)\n",
      "memory usage: 5.4+ MB\n"
     ]
    }
   ],
   "source": [
    "receipt_data.info()"
   ]
  },
  {
   "cell_type": "markdown",
   "metadata": {
    "id": "BpSLq9ISuFdk"
   },
   "source": [
    "## plot number of ingredients in a receipie"
   ]
  },
  {
   "cell_type": "code",
   "execution_count": null,
   "metadata": {
    "id": "DzpL0t34uFdl"
   },
   "outputs": [],
   "source": []
  },
  {
   "cell_type": "code",
   "execution_count": 10,
   "metadata": {
    "id": "0wnF0FrCuFdl"
   },
   "outputs": [],
   "source": [
    "#count ingredient\n",
    "receipt_data['count'] = (receipt_data['ingredient_ids'].str.count(\",\") + 1)\n",
    "# receipt_data['count'] = receipt_data['count'].astype(str)"
   ]
  },
  {
   "cell_type": "code",
   "execution_count": 11,
   "metadata": {},
   "outputs": [
    {
     "data": {
      "text/html": [
       "<div>\n",
       "<style scoped>\n",
       "    .dataframe tbody tr th:only-of-type {\n",
       "        vertical-align: middle;\n",
       "    }\n",
       "\n",
       "    .dataframe tbody tr th {\n",
       "        vertical-align: top;\n",
       "    }\n",
       "\n",
       "    .dataframe thead th {\n",
       "        text-align: right;\n",
       "    }\n",
       "</style>\n",
       "<table border=\"1\" class=\"dataframe\">\n",
       "  <thead>\n",
       "    <tr style=\"text-align: right;\">\n",
       "      <th></th>\n",
       "      <th>id</th>\n",
       "      <th>i</th>\n",
       "      <th>calorie_level</th>\n",
       "      <th>ingredient_ids</th>\n",
       "      <th>count</th>\n",
       "    </tr>\n",
       "  </thead>\n",
       "  <tbody>\n",
       "    <tr>\n",
       "      <th>0</th>\n",
       "      <td>38</td>\n",
       "      <td>16791</td>\n",
       "      <td>0</td>\n",
       "      <td>[648, 3355, 7501, 4253]</td>\n",
       "      <td>4</td>\n",
       "    </tr>\n",
       "    <tr>\n",
       "      <th>1</th>\n",
       "      <td>40</td>\n",
       "      <td>99809</td>\n",
       "      <td>1</td>\n",
       "      <td>[6906, 4303, 2919, 2832, 3829, 1567]</td>\n",
       "      <td>6</td>\n",
       "    </tr>\n",
       "    <tr>\n",
       "      <th>2</th>\n",
       "      <td>45</td>\n",
       "      <td>84204</td>\n",
       "      <td>0</td>\n",
       "      <td>[6906, 4574, 2499, 2509, 2683, 6270, 869, 3324...</td>\n",
       "      <td>9</td>\n",
       "    </tr>\n",
       "    <tr>\n",
       "      <th>3</th>\n",
       "      <td>46</td>\n",
       "      <td>172842</td>\n",
       "      <td>0</td>\n",
       "      <td>[6082]</td>\n",
       "      <td>1</td>\n",
       "    </tr>\n",
       "    <tr>\n",
       "      <th>4</th>\n",
       "      <td>49</td>\n",
       "      <td>61982</td>\n",
       "      <td>2</td>\n",
       "      <td>[2847, 840, 1254, 2683, 4593, 1257, 6270, 4836...</td>\n",
       "      <td>10</td>\n",
       "    </tr>\n",
       "    <tr>\n",
       "      <th>5</th>\n",
       "      <td>52</td>\n",
       "      <td>7897</td>\n",
       "      <td>0</td>\n",
       "      <td>[3869, 6906, 2427, 5068]</td>\n",
       "      <td>4</td>\n",
       "    </tr>\n",
       "    <tr>\n",
       "      <th>6</th>\n",
       "      <td>53</td>\n",
       "      <td>83640</td>\n",
       "      <td>1</td>\n",
       "      <td>[63, 6906, 332, 335, 2662, 1093, 7642, 5408, 1...</td>\n",
       "      <td>13</td>\n",
       "    </tr>\n",
       "    <tr>\n",
       "      <th>7</th>\n",
       "      <td>58</td>\n",
       "      <td>13103</td>\n",
       "      <td>1</td>\n",
       "      <td>[451, 7557, 2379, 6270, 5319, 437, 836, 3184, ...</td>\n",
       "      <td>12</td>\n",
       "    </tr>\n",
       "    <tr>\n",
       "      <th>8</th>\n",
       "      <td>59</td>\n",
       "      <td>60113</td>\n",
       "      <td>0</td>\n",
       "      <td>[2716, 840, 3217, 6085, 5180, 6270, 7213, 5006...</td>\n",
       "      <td>9</td>\n",
       "    </tr>\n",
       "    <tr>\n",
       "      <th>9</th>\n",
       "      <td>62</td>\n",
       "      <td>96738</td>\n",
       "      <td>1</td>\n",
       "      <td>[2832, 5006, 553, 2786, 5519, 6335, 2857, 1118...</td>\n",
       "      <td>9</td>\n",
       "    </tr>\n",
       "  </tbody>\n",
       "</table>\n",
       "</div>"
      ],
      "text/plain": [
       "   id       i  calorie_level  \\\n",
       "0  38   16791              0   \n",
       "1  40   99809              1   \n",
       "2  45   84204              0   \n",
       "3  46  172842              0   \n",
       "4  49   61982              2   \n",
       "5  52    7897              0   \n",
       "6  53   83640              1   \n",
       "7  58   13103              1   \n",
       "8  59   60113              0   \n",
       "9  62   96738              1   \n",
       "\n",
       "                                      ingredient_ids  count  \n",
       "0                            [648, 3355, 7501, 4253]      4  \n",
       "1               [6906, 4303, 2919, 2832, 3829, 1567]      6  \n",
       "2  [6906, 4574, 2499, 2509, 2683, 6270, 869, 3324...      9  \n",
       "3                                             [6082]      1  \n",
       "4  [2847, 840, 1254, 2683, 4593, 1257, 6270, 4836...     10  \n",
       "5                           [3869, 6906, 2427, 5068]      4  \n",
       "6  [63, 6906, 332, 335, 2662, 1093, 7642, 5408, 1...     13  \n",
       "7  [451, 7557, 2379, 6270, 5319, 437, 836, 3184, ...     12  \n",
       "8  [2716, 840, 3217, 6085, 5180, 6270, 7213, 5006...      9  \n",
       "9  [2832, 5006, 553, 2786, 5519, 6335, 2857, 1118...      9  "
      ]
     },
     "execution_count": 11,
     "metadata": {},
     "output_type": "execute_result"
    }
   ],
   "source": [
    "receipt_data.head(10)"
   ]
  },
  {
   "cell_type": "code",
   "execution_count": 12,
   "metadata": {
    "id": "v-d9hG1buFdl"
   },
   "outputs": [
    {
     "name": "stdout",
     "output_type": "stream",
     "text": [
      "<class 'pandas.core.frame.DataFrame'>\n",
      "RangeIndex: 178265 entries, 0 to 178264\n",
      "Data columns (total 5 columns):\n",
      " #   Column          Non-Null Count   Dtype \n",
      "---  ------          --------------   ----- \n",
      " 0   id              178265 non-null  int64 \n",
      " 1   i               178265 non-null  int64 \n",
      " 2   calorie_level   178265 non-null  int64 \n",
      " 3   ingredient_ids  178265 non-null  object\n",
      " 4   count           178265 non-null  int64 \n",
      "dtypes: int64(4), object(1)\n",
      "memory usage: 6.8+ MB\n"
     ]
    }
   ],
   "source": [
    "receipt_data.info()"
   ]
  },
  {
   "cell_type": "markdown",
   "metadata": {
    "id": "3sOpM_A1uFdl"
   },
   "source": [
    "## plot"
   ]
  },
  {
   "cell_type": "code",
   "execution_count": 13,
   "metadata": {
    "id": "l0IkuSVquFdm"
   },
   "outputs": [],
   "source": [
    "# receipt_data.hist(column='count')\n",
    "# plt.title('Histogram of Column Name')\n",
    "# plt.xlabel('Values')\n",
    "# plt.ylabel('Frequency')\n",
    "\n",
    "# # Display the histogram\n",
    "# plt.show()"
   ]
  },
  {
   "cell_type": "code",
   "execution_count": 14,
   "metadata": {
    "id": "JRmSG6KvuFdm"
   },
   "outputs": [
    {
     "data": {
      "image/png": "[encoded data removed]",
      "text/plain": [
       "<Figure size 640x480 with 1 Axes>"
      ]
     },
     "metadata": {},
     "output_type": "display_data"
    }
   ],
   "source": [
    "import seaborn as sns\n",
    "import matplotlib.pyplot as plt\n",
    "\n",
    "fig, ax = plt.subplots()\n",
    "ax = sns.histplot(receipt_data[\"count\"],ax=ax)\n",
    "plt.show()"
   ]
  },
  {
   "cell_type": "code",
   "execution_count": 15,
   "metadata": {},
   "outputs": [
    {
     "data": {
      "text/plain": [
       "(178265, 5)"
      ]
     },
     "execution_count": 15,
     "metadata": {},
     "output_type": "execute_result"
    }
   ],
   "source": [
    "receipt_data.shape"
   ]
  },
  {
   "cell_type": "markdown",
   "metadata": {},
   "source": [
    "## filter data"
   ]
  },
  {
   "cell_type": "code",
   "execution_count": 16,
   "metadata": {},
   "outputs": [],
   "source": [
    "receipt_data = receipt_data.query('count<6')"
   ]
  },
  {
   "cell_type": "code",
   "execution_count": 17,
   "metadata": {},
   "outputs": [
    {
     "data": {
      "text/plain": [
       "(25299, 5)"
      ]
     },
     "execution_count": 17,
     "metadata": {},
     "output_type": "execute_result"
    }
   ],
   "source": [
    "receipt_data.shape"
   ]
  },
  {
   "cell_type": "code",
   "execution_count": 18,
   "metadata": {
    "id": "zbGvk-Pc3foW"
   },
   "outputs": [
    {
     "data": {
      "text/plain": [
       "0                [648, 3355, 7501, 4253]\n",
       "3                                 [6082]\n",
       "5               [3869, 6906, 2427, 5068]\n",
       "14               [811, 2794, 7929, 6273]\n",
       "23               [512, 7655, 2794, 6654]\n",
       "                       ...              \n",
       "178201    [7998, 5476, 7642, 3723, 3497]\n",
       "178228    [1093, 3203, 3577, 4096, 2837]\n",
       "178237    [6906, 7063, 7655, 7449, 6108]\n",
       "178256      [6387, 648, 255, 2591, 1954]\n",
       "178263      [6909, 1076, 63, 1574, 5298]\n",
       "Name: ingredient_ids, Length: 25299, dtype: object"
      ]
     },
     "execution_count": 18,
     "metadata": {},
     "output_type": "execute_result"
    }
   ],
   "source": [
    "receipt_data['ingredient_ids'][0:]"
   ]
  },
  {
   "cell_type": "code",
   "execution_count": 19,
   "metadata": {
    "id": "0GOlPuDKuFdm"
   },
   "outputs": [],
   "source": [
    "from sklearn.feature_extraction.text import CountVectorizer\n",
    "from sklearn.metrics.pairwise import cosine_similarity\n",
    "import tensorflow as tf\n",
    "from scipy import sparse\n",
    "\n",
    "CV = CountVectorizer()\n",
    "converted_metrix = CV.fit_transform(receipt_data['ingredient_ids'].values.astype('U')).toarray()"
   ]
  },
  {
   "cell_type": "code",
   "execution_count": 20,
   "metadata": {
    "id": "-JKRMdMHxMUY",
    "scrolled": true
   },
   "outputs": [
    {
     "data": {
      "text/plain": [
       "(25299, 5136)"
      ]
     },
     "execution_count": 20,
     "metadata": {},
     "output_type": "execute_result"
    }
   ],
   "source": [
    "converted_metrix.shape"
   ]
  },
  {
   "cell_type": "code",
   "execution_count": 21,
   "metadata": {},
   "outputs": [
    {
     "data": {
      "text/plain": [
       "array([[0, 0, 0, ..., 0, 0, 0],\n",
       "       [0, 0, 0, ..., 0, 0, 0],\n",
       "       [0, 0, 0, ..., 0, 0, 0],\n",
       "       ...,\n",
       "       [0, 0, 0, ..., 0, 0, 0],\n",
       "       [0, 0, 0, ..., 0, 0, 0],\n",
       "       [0, 0, 0, ..., 0, 0, 0]])"
      ]
     },
     "execution_count": 21,
     "metadata": {},
     "output_type": "execute_result"
    }
   ],
   "source": [
    "converted_metrix"
   ]
  },
  {
   "cell_type": "markdown",
   "metadata": {
    "id": "B4bsqQ1huFdm"
   },
   "source": [
    "## Using Tensors"
   ]
  },
  {
   "cell_type": "code",
   "execution_count": 22,
   "metadata": {
    "id": "z4Ljflz6uFdm"
   },
   "outputs": [],
   "source": [
    "# tensor = tf.constant(\n",
    "# converted_metrix, shape=converted_metrix.shape, dtype=tf.int32)"
   ]
  },
  {
   "cell_type": "code",
   "execution_count": 23,
   "metadata": {
    "id": "Cp9lYhxjxhAF"
   },
   "outputs": [],
   "source": [
    "# cosine_similarity[1][2]"
   ]
  },
  {
   "cell_type": "code",
   "execution_count": 24,
   "metadata": {
    "id": "Dq-6R5_axanf"
   },
   "outputs": [],
   "source": [
    "# converted_metrix[:10000,:].shape"
   ]
  },
  {
   "cell_type": "code",
   "execution_count": 25,
   "metadata": {},
   "outputs": [],
   "source": [
    "# similarities = tf.keras.losses.cosine_similarity(\n",
    "#    converted_metrix[:65000,:], converted_metrix[:65000,:], axis=1\n",
    "# )\n"
   ]
  },
  {
   "cell_type": "code",
   "execution_count": 26,
   "metadata": {},
   "outputs": [],
   "source": [
    "# similarities"
   ]
  },
  {
   "cell_type": "markdown",
   "metadata": {
    "id": "2azPekQgxzYl"
   },
   "source": [
    "## Testing the Cosine similarity"
   ]
  },
  {
   "cell_type": "code",
   "execution_count": 27,
   "metadata": {
    "id": "SVDFXe9wx36L"
   },
   "outputs": [],
   "source": [
    "A_sparse = sparse.csr_matrix(converted_metrix)\n",
    "similarities = cosine_similarity(A_sparse)\n",
    "# cos_sim_1_2 = cosine_similarity(converted_metrix[0, 10], converted_metrix[10, 20])\n",
    "# cos_sim_1_3 = cosine_similarity(X[0, :], X[2, :])\n",
    "# cos_sim_2_3 = cosine_similarity(X[1, :], X[2, :])\n",
    "\n",
    "# print('\\tDocument 1 and Document 3: ', cos_sim_1_3)\n",
    "# print('\\tDocument 2 and Document 3: ', cos_sim_2_3)\n"
   ]
  },
  {
   "cell_type": "code",
   "execution_count": 28,
   "metadata": {},
   "outputs": [
    {
     "name": "stdout",
     "output_type": "stream",
     "text": [
      "Cosine Similarity between:  (25299, 25299)\n",
      "similarities:  [[1.        0.        0.        ... 0.        0.2236068 0.       ]\n",
      " [0.        1.        0.        ... 0.        0.        0.       ]\n",
      " [0.        0.        1.        ... 0.2236068 0.        0.       ]\n",
      " ...\n",
      " [0.        0.        0.2236068 ... 1.        0.        0.       ]\n",
      " [0.2236068 0.        0.        ... 0.        1.        0.       ]\n",
      " [0.        0.        0.        ... 0.        0.        1.       ]]\n"
     ]
    }
   ],
   "source": [
    "\n",
    "print('Cosine Similarity between: ', similarities.shape)\n",
    "print('similarities: ', format(similarities))"
   ]
  },
  {
   "cell_type": "code",
   "execution_count": 30,
   "metadata": {},
   "outputs": [
    {
     "name": "stdout",
     "output_type": "stream",
     "text": [
      "data saved\n"
     ]
    }
   ],
   "source": [
    "result = pd.DataFrame(similarities) #remove the .T here\n",
    "result.to_csv('output/similarities.csv')\n",
    "print('data saved')"
   ]
  }
 ],
 "metadata": {
  "colab": {
   "gpuType": "T4",
   "provenance": []
  },
  "kaggle": {
   "accelerator": "none",
   "dataSources": [
    {
     "datasetId": 311962,
     "sourceId": 783630,
     "sourceType": "datasetVersion"
    }
   ],
   "dockerImageVersionId": 30664,
   "isGpuEnabled": false,
   "isInternetEnabled": true,
   "language": "python",
   "sourceType": "notebook"
  },
  "kernelspec": {
   "display_name": "Python 3 (ipykernel)",
   "language": "python",
   "name": "python3"
  },
  "language_info": {
   "codemirror_mode": {
    "name": "ipython",
    "version": 3
   },
   "file_extension": ".py",
   "mimetype": "text/x-python",
   "name": "python",
   "nbconvert_exporter": "python",
   "pygments_lexer": "ipython3",
   "version": "3.10.14"
  }
 },
 "nbformat": 4,
 "nbformat_minor": 4
}
